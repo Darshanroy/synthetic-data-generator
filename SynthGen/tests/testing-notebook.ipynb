{
 "cells": [
  {
   "cell_type": "code",
   "execution_count": null,
   "metadata": {},
   "outputs": [],
   "source": []
  },
  {
   "cell_type": "code",
   "execution_count": null,
   "metadata": {},
   "outputs": [
    {
     "ename": "ModuleNotFoundError",
     "evalue": "No module named 'src'",
     "output_type": "error",
     "traceback": [
      "\u001b[1;31m---------------------------------------------------------------------------\u001b[0m",
      "\u001b[1;31mModuleNotFoundError\u001b[0m                       Traceback (most recent call last)",
      "Cell \u001b[1;32mIn[2], line 1\u001b[0m\n\u001b[1;32m----> 1\u001b[0m \u001b[38;5;28;01mfrom\u001b[39;00m \u001b[38;5;21;01msrc\u001b[39;00m\u001b[38;5;21;01m.\u001b[39;00m\u001b[38;5;21;01mSynthGen\u001b[39;00m\u001b[38;5;21;01m.\u001b[39;00m\u001b[38;5;21;01mdocument_loaders\u001b[39;00m \u001b[38;5;28;01mimport\u001b[39;00m (\n\u001b[0;32m      2\u001b[0m     PyPDFLoader_,\n\u001b[0;32m      3\u001b[0m     CSVLoader_,\n\u001b[0;32m      4\u001b[0m     YoutubeLoader_,\n\u001b[0;32m      5\u001b[0m     RecursiveUrlLoader_,\n\u001b[0;32m      6\u001b[0m     SeleniumURLLoader_\n\u001b[0;32m      7\u001b[0m )\n\u001b[0;32m      9\u001b[0m \u001b[38;5;28;01mfrom\u001b[39;00m \u001b[38;5;21;01mSynthGen\u001b[39;00m\u001b[38;5;21;01m.\u001b[39;00m\u001b[38;5;21;01msrc\u001b[39;00m\u001b[38;5;21;01m.\u001b[39;00m\u001b[38;5;21;01mSynthGen\u001b[39;00m\u001b[38;5;21;01m.\u001b[39;00m\u001b[38;5;21;01mtext_extarcters\u001b[39;00m \u001b[38;5;28;01mimport\u001b[39;00m DocumentAnalyzer\n",
      "\u001b[1;31mModuleNotFoundError\u001b[0m: No module named 'src'"
     ]
    }
   ],
   "source": [
    "from SynthGen.src.SynthGen.document_loaders import (\n",
    "    PyPDFLoader_,\n",
    "    CSVLoader_,\n",
    "    YoutubeLoader_,\n",
    "    RecursiveUrlLoader_,\n",
    "    SeleniumURLLoader_\n",
    ")\n",
    "\n",
    "from SynthGen.src.SynthGen.text_extarcters import DocumentAnalyzer"
   ]
  },
  {
   "cell_type": "code",
   "execution_count": null,
   "metadata": {},
   "outputs": [],
   "source": [
    "# if __name__ == \"__main__\":\n",
    "#     pdf_loader = PyPDFLoader_(file_path='example.pdf')\n",
    "#     pdf_docs = pdf_loader.load()\n",
    "#     print(f\"Loaded {len(list(pdf_docs))} documents from PDF.\")\n",
    "\n",
    "#     csv_loader = CSVLoader_(file_path='example.csv')\n",
    "#     csv_docs = csv_loader.load()\n",
    "#     print(f\"Loaded {len(list(csv_docs))} documents from CSV.\")\n",
    "\n",
    "#     youtube_loader = YoutubeLoader_(video_link='https://www.youtube.com/watch?v=dQw4w9WgXcQ')\n",
    "#     youtube_docs = youtube_loader.load()\n",
    "#     print(f\"Loaded {len(list(youtube_docs))} documents from YouTube.\")\n",
    "\n",
    "#     recursive_url_loader = RecursiveUrlLoader_(web_link='https://example.com', max_depth=2)\n",
    "#     recursive_url_docs = recursive_url_loader.load()\n",
    "#     print(f\"Loaded {len(list(recursive_url_docs))} documents from URL recursively.\")\n",
    "\n",
    "#     selenium_url_loader = SeleniumURLLoader_(web_link='https://example.com')\n",
    "#     selenium_url_docs = selenium_url_loader.load()\n",
    "#     print(f\"Loaded {len(list(selenium_url_docs))} documents from URL using Selenium.\")"
   ]
  }
 ],
 "metadata": {
  "kernelspec": {
   "display_name": "Python 3",
   "language": "python",
   "name": "python3"
  },
  "language_info": {
   "codemirror_mode": {
    "name": "ipython",
    "version": 3
   },
   "file_extension": ".py",
   "mimetype": "text/x-python",
   "name": "python",
   "nbconvert_exporter": "python",
   "pygments_lexer": "ipython3",
   "version": "3.11.4"
  }
 },
 "nbformat": 4,
 "nbformat_minor": 2
}
